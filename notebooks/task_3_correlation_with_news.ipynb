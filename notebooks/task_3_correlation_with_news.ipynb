{
 "cells": [
  {
   "cell_type": "code",
   "execution_count": 9,
   "id": "07e63cdd",
   "metadata": {},
   "outputs": [
    {
     "name": "stderr",
     "output_type": "stream",
     "text": [
      "[*********************100%***********************]  1 of 1 completed\n"
     ]
    }
   ],
   "source": [
    "import yfinance as yf\n",
    "import pandas as pd\n",
    "import numpy as np\n",
    "from textblob import TextBlob\n",
    "\n",
    "# Define the ticker and the time period\n",
    "ticker = 'TSLA'\n",
    "start_date = '2020-01-01'\n",
    "end_date = '2023-01-01'\n",
    "\n",
    "# Fetch the stock data\n",
    "tesla_data = yf.download(ticker, start=start_date, end=end_date)\n"
   ]
  },
  {
   "cell_type": "code",
   "execution_count": 10,
   "id": "966e81e5",
   "metadata": {},
   "outputs": [
    {
     "data": {
      "text/html": [
       "<div>\n",
       "<style scoped>\n",
       "    .dataframe tbody tr th:only-of-type {\n",
       "        vertical-align: middle;\n",
       "    }\n",
       "\n",
       "    .dataframe tbody tr th {\n",
       "        vertical-align: top;\n",
       "    }\n",
       "\n",
       "    .dataframe thead tr th {\n",
       "        text-align: left;\n",
       "    }\n",
       "\n",
       "    .dataframe thead tr:last-of-type th {\n",
       "        text-align: right;\n",
       "    }\n",
       "</style>\n",
       "<table border=\"1\" class=\"dataframe\">\n",
       "  <thead>\n",
       "    <tr>\n",
       "      <th>Price</th>\n",
       "      <th>Close</th>\n",
       "      <th>High</th>\n",
       "      <th>Low</th>\n",
       "      <th>Open</th>\n",
       "      <th>Volume</th>\n",
       "    </tr>\n",
       "    <tr>\n",
       "      <th>Ticker</th>\n",
       "      <th>TSLA</th>\n",
       "      <th>TSLA</th>\n",
       "      <th>TSLA</th>\n",
       "      <th>TSLA</th>\n",
       "      <th>TSLA</th>\n",
       "    </tr>\n",
       "    <tr>\n",
       "      <th>Date</th>\n",
       "      <th></th>\n",
       "      <th></th>\n",
       "      <th></th>\n",
       "      <th></th>\n",
       "      <th></th>\n",
       "    </tr>\n",
       "  </thead>\n",
       "  <tbody>\n",
       "    <tr>\n",
       "      <th>2020-01-02</th>\n",
       "      <td>28.684000</td>\n",
       "      <td>28.713333</td>\n",
       "      <td>28.114000</td>\n",
       "      <td>28.299999</td>\n",
       "      <td>142981500</td>\n",
       "    </tr>\n",
       "    <tr>\n",
       "      <th>2020-01-03</th>\n",
       "      <td>29.534000</td>\n",
       "      <td>30.266666</td>\n",
       "      <td>29.128000</td>\n",
       "      <td>29.366667</td>\n",
       "      <td>266677500</td>\n",
       "    </tr>\n",
       "    <tr>\n",
       "      <th>2020-01-06</th>\n",
       "      <td>30.102667</td>\n",
       "      <td>30.104000</td>\n",
       "      <td>29.333332</td>\n",
       "      <td>29.364668</td>\n",
       "      <td>151995000</td>\n",
       "    </tr>\n",
       "    <tr>\n",
       "      <th>2020-01-07</th>\n",
       "      <td>31.270666</td>\n",
       "      <td>31.441999</td>\n",
       "      <td>30.224001</td>\n",
       "      <td>30.760000</td>\n",
       "      <td>268231500</td>\n",
       "    </tr>\n",
       "    <tr>\n",
       "      <th>2020-01-08</th>\n",
       "      <td>32.809334</td>\n",
       "      <td>33.232666</td>\n",
       "      <td>31.215334</td>\n",
       "      <td>31.580000</td>\n",
       "      <td>467164500</td>\n",
       "    </tr>\n",
       "  </tbody>\n",
       "</table>\n",
       "</div>"
      ],
      "text/plain": [
       "Price           Close       High        Low       Open     Volume\n",
       "Ticker           TSLA       TSLA       TSLA       TSLA       TSLA\n",
       "Date                                                             \n",
       "2020-01-02  28.684000  28.713333  28.114000  28.299999  142981500\n",
       "2020-01-03  29.534000  30.266666  29.128000  29.366667  266677500\n",
       "2020-01-06  30.102667  30.104000  29.333332  29.364668  151995000\n",
       "2020-01-07  31.270666  31.441999  30.224001  30.760000  268231500\n",
       "2020-01-08  32.809334  33.232666  31.215334  31.580000  467164500"
      ]
     },
     "execution_count": 10,
     "metadata": {},
     "output_type": "execute_result"
    }
   ],
   "source": [
    "tesla_data.head()"
   ]
  },
  {
   "cell_type": "code",
   "execution_count": 11,
   "id": "27e09452",
   "metadata": {},
   "outputs": [
    {
     "data": {
      "text/plain": [
       "MultiIndex([( 'Close', 'TSLA'),\n",
       "            (  'High', 'TSLA'),\n",
       "            (   'Low', 'TSLA'),\n",
       "            (  'Open', 'TSLA'),\n",
       "            ('Volume', 'TSLA')],\n",
       "           names=['Price', 'Ticker'])"
      ]
     },
     "execution_count": 11,
     "metadata": {},
     "output_type": "execute_result"
    }
   ],
   "source": [
    "tesla_data.columns"
   ]
  },
  {
   "cell_type": "code",
   "execution_count": 12,
   "id": "5740146d",
   "metadata": {},
   "outputs": [
    {
     "data": {
      "text/plain": [
       "Index(['Close', 'High', 'Low', 'Open', 'Volume'], dtype='object')"
      ]
     },
     "execution_count": 12,
     "metadata": {},
     "output_type": "execute_result"
    }
   ],
   "source": [
    "tesla_data.columns = ['Close', 'High', 'Low', 'Open', 'Volume']\n",
    "\n",
    "tesla_data.columns"
   ]
  },
  {
   "cell_type": "code",
   "execution_count": 13,
   "id": "111b2d29",
   "metadata": {},
   "outputs": [],
   "source": [
    "# Create a DataFrame with dates from the AAPL data\n",
    "dates = tesla_data.index\n",
    "text_data = pd.DataFrame(dates, columns=['Date'])"
   ]
  },
  {
   "cell_type": "code",
   "execution_count": 14,
   "id": "39efd3f7",
   "metadata": {},
   "outputs": [
    {
     "data": {
      "text/html": [
       "<div>\n",
       "<style scoped>\n",
       "    .dataframe tbody tr th:only-of-type {\n",
       "        vertical-align: middle;\n",
       "    }\n",
       "\n",
       "    .dataframe tbody tr th {\n",
       "        vertical-align: top;\n",
       "    }\n",
       "\n",
       "    .dataframe thead th {\n",
       "        text-align: right;\n",
       "    }\n",
       "</style>\n",
       "<table border=\"1\" class=\"dataframe\">\n",
       "  <thead>\n",
       "    <tr style=\"text-align: right;\">\n",
       "      <th></th>\n",
       "      <th>Date</th>\n",
       "      <th>Headline</th>\n",
       "    </tr>\n",
       "  </thead>\n",
       "  <tbody>\n",
       "    <tr>\n",
       "      <th>0</th>\n",
       "      <td>2020-01-02</td>\n",
       "      <td>TSLA rumored to acquire a tech startup</td>\n",
       "    </tr>\n",
       "    <tr>\n",
       "      <th>1</th>\n",
       "      <td>2020-01-03</td>\n",
       "      <td>New TSLA CEO announced</td>\n",
       "    </tr>\n",
       "    <tr>\n",
       "      <th>2</th>\n",
       "      <td>2020-01-06</td>\n",
       "      <td>TSLA invests in renewable energy</td>\n",
       "    </tr>\n",
       "    <tr>\n",
       "      <th>3</th>\n",
       "      <td>2020-01-07</td>\n",
       "      <td>New TSLA CEO announced</td>\n",
       "    </tr>\n",
       "    <tr>\n",
       "      <th>4</th>\n",
       "      <td>2020-01-08</td>\n",
       "      <td>TSLA rumored to acquire a tech startup</td>\n",
       "    </tr>\n",
       "  </tbody>\n",
       "</table>\n",
       "</div>"
      ],
      "text/plain": [
       "        Date                                Headline\n",
       "0 2020-01-02  TSLA rumored to acquire a tech startup\n",
       "1 2020-01-03                  New TSLA CEO announced\n",
       "2 2020-01-06        TSLA invests in renewable energy\n",
       "3 2020-01-07                  New TSLA CEO announced\n",
       "4 2020-01-08  TSLA rumored to acquire a tech startup"
      ]
     },
     "execution_count": 14,
     "metadata": {},
     "output_type": "execute_result"
    }
   ],
   "source": [
    "# Generate random headlines\n",
    "headline_samples = [\n",
    "    \"TSLA hits record high\",\n",
    "    \"Concerns over TSLA's future growth\",\n",
    "    \"TSLA to unveil new product next month\",\n",
    "    \"TSLA reports earnings that exceed forecasts\",\n",
    "    \"Market downturn affects TSLA\",\n",
    "    \"TSLA invests in renewable energy\",\n",
    "    \"New TSLA CEO announced\",\n",
    "    \"TSLA faces regulatory scrutiny\",\n",
    "    \"TSLA rumored to acquire a tech startup\",\n",
    "    \"TSLA's market share grows\"\n",
    "]\n",
    "\n",
    "# Assign a random headline to each date\n",
    "text_data['Headline'] = np.random.choice(headline_samples, size=len(text_data))\n",
    "\n",
    "# Display the first few rows of the updated DataFrame\n",
    "text_data.head()"
   ]
  },
  {
   "cell_type": "code",
   "execution_count": 15,
   "id": "320a631d",
   "metadata": {},
   "outputs": [
    {
     "data": {
      "text/html": [
       "<div>\n",
       "<style scoped>\n",
       "    .dataframe tbody tr th:only-of-type {\n",
       "        vertical-align: middle;\n",
       "    }\n",
       "\n",
       "    .dataframe tbody tr th {\n",
       "        vertical-align: top;\n",
       "    }\n",
       "\n",
       "    .dataframe thead th {\n",
       "        text-align: right;\n",
       "    }\n",
       "</style>\n",
       "<table border=\"1\" class=\"dataframe\">\n",
       "  <thead>\n",
       "    <tr style=\"text-align: right;\">\n",
       "      <th></th>\n",
       "      <th>Date</th>\n",
       "      <th>Headline</th>\n",
       "    </tr>\n",
       "  </thead>\n",
       "  <tbody>\n",
       "    <tr>\n",
       "      <th>0</th>\n",
       "      <td>2020-01-02</td>\n",
       "      <td>TSLA rumored to acquire a tech startup</td>\n",
       "    </tr>\n",
       "    <tr>\n",
       "      <th>1</th>\n",
       "      <td>2020-01-03</td>\n",
       "      <td>New TSLA CEO announced</td>\n",
       "    </tr>\n",
       "    <tr>\n",
       "      <th>2</th>\n",
       "      <td>2020-01-06</td>\n",
       "      <td>TSLA invests in renewable energy</td>\n",
       "    </tr>\n",
       "    <tr>\n",
       "      <th>3</th>\n",
       "      <td>2020-01-07</td>\n",
       "      <td>New TSLA CEO announced</td>\n",
       "    </tr>\n",
       "    <tr>\n",
       "      <th>4</th>\n",
       "      <td>2020-01-08</td>\n",
       "      <td>TSLA rumored to acquire a tech startup</td>\n",
       "    </tr>\n",
       "    <tr>\n",
       "      <th>5</th>\n",
       "      <td>2020-01-09</td>\n",
       "      <td>Market downturn affects TSLA</td>\n",
       "    </tr>\n",
       "    <tr>\n",
       "      <th>6</th>\n",
       "      <td>2020-01-10</td>\n",
       "      <td>TSLA reports earnings that exceed forecasts</td>\n",
       "    </tr>\n",
       "    <tr>\n",
       "      <th>7</th>\n",
       "      <td>2020-01-13</td>\n",
       "      <td>TSLA to unveil new product next month</td>\n",
       "    </tr>\n",
       "    <tr>\n",
       "      <th>8</th>\n",
       "      <td>2020-01-14</td>\n",
       "      <td>TSLA's market share grows</td>\n",
       "    </tr>\n",
       "    <tr>\n",
       "      <th>9</th>\n",
       "      <td>2020-01-15</td>\n",
       "      <td>TSLA to unveil new product next month</td>\n",
       "    </tr>\n",
       "    <tr>\n",
       "      <th>10</th>\n",
       "      <td>2020-01-16</td>\n",
       "      <td>TSLA rumored to acquire a tech startup</td>\n",
       "    </tr>\n",
       "    <tr>\n",
       "      <th>11</th>\n",
       "      <td>2020-01-17</td>\n",
       "      <td>TSLA faces regulatory scrutiny</td>\n",
       "    </tr>\n",
       "    <tr>\n",
       "      <th>12</th>\n",
       "      <td>2020-01-21</td>\n",
       "      <td>TSLA hits record high</td>\n",
       "    </tr>\n",
       "    <tr>\n",
       "      <th>13</th>\n",
       "      <td>2020-01-22</td>\n",
       "      <td>TSLA to unveil new product next month</td>\n",
       "    </tr>\n",
       "    <tr>\n",
       "      <th>14</th>\n",
       "      <td>2020-01-23</td>\n",
       "      <td>TSLA reports earnings that exceed forecasts</td>\n",
       "    </tr>\n",
       "    <tr>\n",
       "      <th>15</th>\n",
       "      <td>2020-01-24</td>\n",
       "      <td>TSLA to unveil new product next month</td>\n",
       "    </tr>\n",
       "    <tr>\n",
       "      <th>16</th>\n",
       "      <td>2020-01-27</td>\n",
       "      <td>Market downturn affects TSLA</td>\n",
       "    </tr>\n",
       "    <tr>\n",
       "      <th>17</th>\n",
       "      <td>2020-01-28</td>\n",
       "      <td>TSLA rumored to acquire a tech startup</td>\n",
       "    </tr>\n",
       "    <tr>\n",
       "      <th>18</th>\n",
       "      <td>2020-01-29</td>\n",
       "      <td>TSLA invests in renewable energy</td>\n",
       "    </tr>\n",
       "    <tr>\n",
       "      <th>19</th>\n",
       "      <td>2020-01-30</td>\n",
       "      <td>New TSLA CEO announced</td>\n",
       "    </tr>\n",
       "    <tr>\n",
       "      <th>20</th>\n",
       "      <td>2020-01-31</td>\n",
       "      <td>TSLA reports earnings that exceed forecasts</td>\n",
       "    </tr>\n",
       "    <tr>\n",
       "      <th>21</th>\n",
       "      <td>2020-02-03</td>\n",
       "      <td>TSLA's market share grows</td>\n",
       "    </tr>\n",
       "    <tr>\n",
       "      <th>22</th>\n",
       "      <td>2020-02-04</td>\n",
       "      <td>New TSLA CEO announced</td>\n",
       "    </tr>\n",
       "    <tr>\n",
       "      <th>23</th>\n",
       "      <td>2020-02-05</td>\n",
       "      <td>TSLA's market share grows</td>\n",
       "    </tr>\n",
       "    <tr>\n",
       "      <th>24</th>\n",
       "      <td>2020-02-06</td>\n",
       "      <td>TSLA faces regulatory scrutiny</td>\n",
       "    </tr>\n",
       "    <tr>\n",
       "      <th>25</th>\n",
       "      <td>2020-02-07</td>\n",
       "      <td>TSLA to unveil new product next month</td>\n",
       "    </tr>\n",
       "    <tr>\n",
       "      <th>26</th>\n",
       "      <td>2020-02-10</td>\n",
       "      <td>TSLA invests in renewable energy</td>\n",
       "    </tr>\n",
       "    <tr>\n",
       "      <th>27</th>\n",
       "      <td>2020-02-11</td>\n",
       "      <td>TSLA to unveil new product next month</td>\n",
       "    </tr>\n",
       "    <tr>\n",
       "      <th>28</th>\n",
       "      <td>2020-02-12</td>\n",
       "      <td>TSLA to unveil new product next month</td>\n",
       "    </tr>\n",
       "    <tr>\n",
       "      <th>29</th>\n",
       "      <td>2020-02-13</td>\n",
       "      <td>TSLA's market share grows</td>\n",
       "    </tr>\n",
       "  </tbody>\n",
       "</table>\n",
       "</div>"
      ],
      "text/plain": [
       "         Date                                     Headline\n",
       "0  2020-01-02       TSLA rumored to acquire a tech startup\n",
       "1  2020-01-03                       New TSLA CEO announced\n",
       "2  2020-01-06             TSLA invests in renewable energy\n",
       "3  2020-01-07                       New TSLA CEO announced\n",
       "4  2020-01-08       TSLA rumored to acquire a tech startup\n",
       "5  2020-01-09                 Market downturn affects TSLA\n",
       "6  2020-01-10  TSLA reports earnings that exceed forecasts\n",
       "7  2020-01-13        TSLA to unveil new product next month\n",
       "8  2020-01-14                    TSLA's market share grows\n",
       "9  2020-01-15        TSLA to unveil new product next month\n",
       "10 2020-01-16       TSLA rumored to acquire a tech startup\n",
       "11 2020-01-17               TSLA faces regulatory scrutiny\n",
       "12 2020-01-21                        TSLA hits record high\n",
       "13 2020-01-22        TSLA to unveil new product next month\n",
       "14 2020-01-23  TSLA reports earnings that exceed forecasts\n",
       "15 2020-01-24        TSLA to unveil new product next month\n",
       "16 2020-01-27                 Market downturn affects TSLA\n",
       "17 2020-01-28       TSLA rumored to acquire a tech startup\n",
       "18 2020-01-29             TSLA invests in renewable energy\n",
       "19 2020-01-30                       New TSLA CEO announced\n",
       "20 2020-01-31  TSLA reports earnings that exceed forecasts\n",
       "21 2020-02-03                    TSLA's market share grows\n",
       "22 2020-02-04                       New TSLA CEO announced\n",
       "23 2020-02-05                    TSLA's market share grows\n",
       "24 2020-02-06               TSLA faces regulatory scrutiny\n",
       "25 2020-02-07        TSLA to unveil new product next month\n",
       "26 2020-02-10             TSLA invests in renewable energy\n",
       "27 2020-02-11        TSLA to unveil new product next month\n",
       "28 2020-02-12        TSLA to unveil new product next month\n",
       "29 2020-02-13                    TSLA's market share grows"
      ]
     },
     "execution_count": 15,
     "metadata": {},
     "output_type": "execute_result"
    }
   ],
   "source": [
    "text_data.head(30)"
   ]
  },
  {
   "cell_type": "code",
   "execution_count": 21,
   "id": "e68e9134",
   "metadata": {},
   "outputs": [],
   "source": [
    "def calculate_sentiment(text):\n",
    "    return TextBlob(text).sentiment.polarity\n",
    "\n",
    "# Applying the sentiment analysis function to your headlines\n",
    "text_data['Sentiment'] = text_data['Headline'].apply(calculate_sentiment)"
   ]
  },
  {
   "cell_type": "code",
   "execution_count": 22,
   "id": "4b492c60",
   "metadata": {},
   "outputs": [
    {
     "data": {
      "text/html": [
       "<div>\n",
       "<style scoped>\n",
       "    .dataframe tbody tr th:only-of-type {\n",
       "        vertical-align: middle;\n",
       "    }\n",
       "\n",
       "    .dataframe tbody tr th {\n",
       "        vertical-align: top;\n",
       "    }\n",
       "\n",
       "    .dataframe thead th {\n",
       "        text-align: right;\n",
       "    }\n",
       "</style>\n",
       "<table border=\"1\" class=\"dataframe\">\n",
       "  <thead>\n",
       "    <tr style=\"text-align: right;\">\n",
       "      <th></th>\n",
       "      <th>Headline</th>\n",
       "      <th>Sentiment</th>\n",
       "      <th>Close</th>\n",
       "    </tr>\n",
       "    <tr>\n",
       "      <th>Date</th>\n",
       "      <th></th>\n",
       "      <th></th>\n",
       "      <th></th>\n",
       "    </tr>\n",
       "  </thead>\n",
       "  <tbody>\n",
       "    <tr>\n",
       "      <th>2020-01-02</th>\n",
       "      <td>TSLA rumored to acquire a tech startup</td>\n",
       "      <td>0.000000</td>\n",
       "      <td>28.684000</td>\n",
       "    </tr>\n",
       "    <tr>\n",
       "      <th>2020-01-03</th>\n",
       "      <td>New TSLA CEO announced</td>\n",
       "      <td>0.136364</td>\n",
       "      <td>29.534000</td>\n",
       "    </tr>\n",
       "    <tr>\n",
       "      <th>2020-01-06</th>\n",
       "      <td>TSLA invests in renewable energy</td>\n",
       "      <td>0.000000</td>\n",
       "      <td>30.102667</td>\n",
       "    </tr>\n",
       "    <tr>\n",
       "      <th>2020-01-07</th>\n",
       "      <td>New TSLA CEO announced</td>\n",
       "      <td>0.136364</td>\n",
       "      <td>31.270666</td>\n",
       "    </tr>\n",
       "    <tr>\n",
       "      <th>2020-01-08</th>\n",
       "      <td>TSLA rumored to acquire a tech startup</td>\n",
       "      <td>0.000000</td>\n",
       "      <td>32.809334</td>\n",
       "    </tr>\n",
       "  </tbody>\n",
       "</table>\n",
       "</div>"
      ],
      "text/plain": [
       "                                          Headline  Sentiment      Close\n",
       "Date                                                                    \n",
       "2020-01-02  TSLA rumored to acquire a tech startup   0.000000  28.684000\n",
       "2020-01-03                  New TSLA CEO announced   0.136364  29.534000\n",
       "2020-01-06        TSLA invests in renewable energy   0.000000  30.102667\n",
       "2020-01-07                  New TSLA CEO announced   0.136364  31.270666\n",
       "2020-01-08  TSLA rumored to acquire a tech startup   0.000000  32.809334"
      ]
     },
     "execution_count": 22,
     "metadata": {},
     "output_type": "execute_result"
    }
   ],
   "source": [
    "# Aligning sentiment scores with the stock closing prices on the same date\n",
    "combined_data = text_data.set_index('Date').join(tesla_data['Close'])\n",
    "combined_data.head()"
   ]
  },
  {
   "cell_type": "code",
   "execution_count": 23,
   "id": "0e5f8826",
   "metadata": {},
   "outputs": [],
   "source": [
    "combined_data['Daily Returns'] = combined_data['Close'].pct_change()"
   ]
  },
  {
   "cell_type": "code",
   "execution_count": 24,
   "id": "635789d6",
   "metadata": {},
   "outputs": [
    {
     "data": {
      "text/html": [
       "<div>\n",
       "<style scoped>\n",
       "    .dataframe tbody tr th:only-of-type {\n",
       "        vertical-align: middle;\n",
       "    }\n",
       "\n",
       "    .dataframe tbody tr th {\n",
       "        vertical-align: top;\n",
       "    }\n",
       "\n",
       "    .dataframe thead th {\n",
       "        text-align: right;\n",
       "    }\n",
       "</style>\n",
       "<table border=\"1\" class=\"dataframe\">\n",
       "  <thead>\n",
       "    <tr style=\"text-align: right;\">\n",
       "      <th></th>\n",
       "      <th>Headline</th>\n",
       "      <th>Sentiment</th>\n",
       "      <th>Close</th>\n",
       "      <th>Daily Returns</th>\n",
       "    </tr>\n",
       "    <tr>\n",
       "      <th>Date</th>\n",
       "      <th></th>\n",
       "      <th></th>\n",
       "      <th></th>\n",
       "      <th></th>\n",
       "    </tr>\n",
       "  </thead>\n",
       "  <tbody>\n",
       "    <tr>\n",
       "      <th>2020-01-02</th>\n",
       "      <td>TSLA rumored to acquire a tech startup</td>\n",
       "      <td>0.000000</td>\n",
       "      <td>28.684000</td>\n",
       "      <td>NaN</td>\n",
       "    </tr>\n",
       "    <tr>\n",
       "      <th>2020-01-03</th>\n",
       "      <td>New TSLA CEO announced</td>\n",
       "      <td>0.136364</td>\n",
       "      <td>29.534000</td>\n",
       "      <td>0.029633</td>\n",
       "    </tr>\n",
       "    <tr>\n",
       "      <th>2020-01-06</th>\n",
       "      <td>TSLA invests in renewable energy</td>\n",
       "      <td>0.000000</td>\n",
       "      <td>30.102667</td>\n",
       "      <td>0.019255</td>\n",
       "    </tr>\n",
       "    <tr>\n",
       "      <th>2020-01-07</th>\n",
       "      <td>New TSLA CEO announced</td>\n",
       "      <td>0.136364</td>\n",
       "      <td>31.270666</td>\n",
       "      <td>0.038801</td>\n",
       "    </tr>\n",
       "    <tr>\n",
       "      <th>2020-01-08</th>\n",
       "      <td>TSLA rumored to acquire a tech startup</td>\n",
       "      <td>0.000000</td>\n",
       "      <td>32.809334</td>\n",
       "      <td>0.049205</td>\n",
       "    </tr>\n",
       "  </tbody>\n",
       "</table>\n",
       "</div>"
      ],
      "text/plain": [
       "                                          Headline  Sentiment      Close  \\\n",
       "Date                                                                       \n",
       "2020-01-02  TSLA rumored to acquire a tech startup   0.000000  28.684000   \n",
       "2020-01-03                  New TSLA CEO announced   0.136364  29.534000   \n",
       "2020-01-06        TSLA invests in renewable energy   0.000000  30.102667   \n",
       "2020-01-07                  New TSLA CEO announced   0.136364  31.270666   \n",
       "2020-01-08  TSLA rumored to acquire a tech startup   0.000000  32.809334   \n",
       "\n",
       "            Daily Returns  \n",
       "Date                       \n",
       "2020-01-02            NaN  \n",
       "2020-01-03       0.029633  \n",
       "2020-01-06       0.019255  \n",
       "2020-01-07       0.038801  \n",
       "2020-01-08       0.049205  "
      ]
     },
     "execution_count": 24,
     "metadata": {},
     "output_type": "execute_result"
    }
   ],
   "source": [
    "combined_data.head()"
   ]
  },
  {
   "cell_type": "code",
   "execution_count": 25,
   "id": "06fc7107",
   "metadata": {},
   "outputs": [
    {
     "name": "stdout",
     "output_type": "stream",
     "text": [
      "Correlation between sentiment and daily stock returns: -0.019496637882112963\n"
     ]
    }
   ],
   "source": [
    "correlation = combined_data['Sentiment'].corr(combined_data['Daily Returns'])\n",
    "print(\"Correlation between sentiment and daily stock returns:\", correlation)"
   ]
  },
  {
   "cell_type": "code",
   "execution_count": 26,
   "id": "2b8c6693",
   "metadata": {},
   "outputs": [
    {
     "name": "stdout",
     "output_type": "stream",
     "text": [
      "Correlation between sentiment and closing: 0.007907998873654218\n"
     ]
    }
   ],
   "source": [
    "correlation = combined_data['Sentiment'].corr(combined_data['Close'])\n",
    "print(\"Correlation between sentiment and closing:\", correlation)"
   ]
  },
  {
   "cell_type": "code",
   "execution_count": 27,
   "id": "f0c17b32",
   "metadata": {},
   "outputs": [
    {
     "name": "stdout",
     "output_type": "stream",
     "text": [
      "Correlation between sentiment and closing: 0.00034319820120806737\n"
     ]
    }
   ],
   "source": [
    "combined_data['Lagged Sentiment'] = combined_data['Sentiment'].shift(1)\n",
    "correlation = combined_data['Lagged Sentiment'].corr(combined_data['Daily Returns'])\n",
    "print(\"Correlation between sentiment and closing:\", correlation)"
   ]
  },
  {
   "cell_type": "code",
   "execution_count": 28,
   "id": "b02af1b5",
   "metadata": {},
   "outputs": [
    {
     "name": "stdout",
     "output_type": "stream",
     "text": [
      "Spearman correlation (sentiment vs daily returns): -0.017534491752401536\n"
     ]
    }
   ],
   "source": [
    "# Spearman correlation between sentiment and daily returns\n",
    "spearman_corr_returns = combined_data['Sentiment'].corr(combined_data['Daily Returns'], method='spearman')\n",
    "print(\"Spearman correlation (sentiment vs daily returns):\", spearman_corr_returns)"
   ]
  },
  {
   "cell_type": "code",
   "execution_count": 29,
   "id": "a85b78e3",
   "metadata": {},
   "outputs": [
    {
     "name": "stdout",
     "output_type": "stream",
     "text": [
      "Spearman correlation (sentiment vs closing price): 0.012287449423982754\n"
     ]
    }
   ],
   "source": [
    "# Spearman correlation between sentiment and closing prices\n",
    "spearman_corr_close = combined_data['Sentiment'].corr(combined_data['Close'], method='spearman')\n",
    "print(\"Spearman correlation (sentiment vs closing price):\", spearman_corr_close)"
   ]
  },
  {
   "cell_type": "code",
   "execution_count": 30,
   "id": "28865b37",
   "metadata": {},
   "outputs": [
    {
     "name": "stdout",
     "output_type": "stream",
     "text": [
      "Kendall's Tau (sentiment vs daily returns): nan\n",
      "Kendall's Tau (sentiment vs closing price): 0.0098116258185713\n"
     ]
    }
   ],
   "source": [
    "from scipy.stats import kendalltau\n",
    "\n",
    "tau_returns, _ = kendalltau(combined_data['Sentiment'], combined_data['Daily Returns'])\n",
    "tau_close, _ = kendalltau(combined_data['Sentiment'], combined_data['Close'])\n",
    "\n",
    "print(\"Kendall's Tau (sentiment vs daily returns):\", tau_returns)\n",
    "print(\"Kendall's Tau (sentiment vs closing price):\", tau_close)"
   ]
  },
  {
   "cell_type": "code",
   "execution_count": 31,
   "id": "8df597ae",
   "metadata": {},
   "outputs": [
    {
     "name": "stdout",
     "output_type": "stream",
     "text": [
      "0\n",
      "1\n",
      "(755, 2)\n"
     ]
    }
   ],
   "source": [
    "print(combined_data['Sentiment'].isna().sum())\n",
    "print(combined_data['Daily Returns'].isna().sum())\n",
    "print(combined_data[['Sentiment', 'Daily Returns']].dropna().shape)"
   ]
  },
  {
   "cell_type": "code",
   "execution_count": 32,
   "id": "b658adcc",
   "metadata": {},
   "outputs": [
    {
     "name": "stdout",
     "output_type": "stream",
     "text": [
      "Fixed Kendall's Tau (sentiment vs daily returns): -0.013337656121315149\n"
     ]
    }
   ],
   "source": [
    "from scipy.stats import kendalltau\n",
    "\n",
    "# Drop rows with NaNs before computing\n",
    "filtered = combined_data[['Sentiment', 'Daily Returns']].dropna()\n",
    "tau_returns, _ = kendalltau(filtered['Sentiment'], filtered['Daily Returns'])\n",
    "print(\"Fixed Kendall's Tau (sentiment vs daily returns):\", tau_returns)"
   ]
  },
  {
   "cell_type": "code",
   "execution_count": 33,
   "id": "89efbd84",
   "metadata": {},
   "outputs": [
    {
     "data": {
      "image/png": "[encoded data removed]",
      "text/plain": [
       "<Figure size 800x600 with 2 Axes>"
      ]
     },
     "metadata": {},
     "output_type": "display_data"
    }
   ],
   "source": [
    "import seaborn as sns\n",
    "import matplotlib.pyplot as plt\n",
    "\n",
    "# Select only the numeric columns you want to compare\n",
    "corr_data = combined_data[['Sentiment', 'Close', 'Daily Returns']].dropna()\n",
    "\n",
    "# Calculate correlation matrix\n",
    "corr_matrix = corr_data.corr(method='pearson')  # You can also try 'spearman' or 'kendall'\n",
    "\n",
    "# Plot heatmap\n",
    "plt.figure(figsize=(8, 6))\n",
    "sns.heatmap(corr_matrix, annot=True, cmap='coolwarm', fmt=\".2f\")\n",
    "plt.title('Correlation Matrix')\n",
    "plt.show()\n"
   ]
  }
 ],
 "metadata": {
  "kernelspec": {
   "display_name": "venv",
   "language": "python",
   "name": "python3"
  },
  "language_info": {
   "codemirror_mode": {
    "name": "ipython",
    "version": 3
   },
   "file_extension": ".py",
   "mimetype": "text/x-python",
   "name": "python",
   "nbconvert_exporter": "python",
   "pygments_lexer": "ipython3",
   "version": "3.12.10"
  }
 },
 "nbformat": 4,
 "nbformat_minor": 5
}
