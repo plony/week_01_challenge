{
 "cells": [
  {
   "cell_type": "code",
   "execution_count": null,
   "id": "f43ee5f3",
   "metadata": {},
   "outputs": [
    {
     "name": "stdout",
     "output_type": "stream",
     "text": [
      "     0                                             1  \\\n",
      "0  NaN                                      headline   \n",
      "1  0.0       Stocks That Hit 52-Week Highs On Friday   \n",
      "2  1.0    Stocks That Hit 52-Week Highs On Wednesday   \n",
      "3  2.0                 71 Biggest Movers From Friday   \n",
      "4  3.0  46 Stocks Moving In Friday's Mid-Day Session   \n",
      "\n",
      "                                                   2                  3  \\\n",
      "0                                                url          publisher   \n",
      "1  https://www.benzinga.com/news/20/06/16190091/s...  Benzinga Insights   \n",
      "2  https://www.benzinga.com/news/20/06/16170189/s...  Benzinga Insights   \n",
      "3  https://www.benzinga.com/news/20/05/16103463/7...         Lisa Levin   \n",
      "4  https://www.benzinga.com/news/20/05/16095921/4...         Lisa Levin   \n",
      "\n",
      "                           4      5  \n",
      "0                       date  stock  \n",
      "1  2020-06-05 10:30:54-04:00      A  \n",
      "2  2020-06-03 10:45:20-04:00      A  \n",
      "3  2020-05-26 04:30:07-04:00      A  \n",
      "4  2020-05-22 12:45:06-04:00      A  \n"
     ]
    }
   ],
   "source": [
    "import pandas as pd\n",
    "import matplotlib.pyplot as plt\n",
    "import seaborn as sns\n",
    "from textblob import TextBlob\n",
    "# Load raw analyst ratings CSV (news headlines)\n",
    "news_df = pd.read_csv(\"../data/raw/raw_analyst_ratings.csv\", header=None)\n",
    "\n",
    "# Inspect first few rows to understand structure\n",
    "print(news_df.head())"
   ]
  },
  {
   "cell_type": "code",
   "execution_count": 3,
   "id": "15d1516e",
   "metadata": {},
   "outputs": [],
   "source": [
    "def parse_news_date(cell):\n",
    "    try:\n",
    "        return pd.to_datetime(str(cell).split(' ')[0])\n",
    "    except:\n",
    "        return None\n",
    "\n",
    "# Assume date is in column index 4\n",
    "news_df['Date'] = news_df[4].apply(parse_news_date)\n",
    "news_df = news_df.dropna(subset=['Date'])\n",
    "\n",
    "# Keep only relevant columns\n",
    "news_df = news_df[[1, 'Date']]  # assuming column 1 is headline\n",
    "news_df.columns = ['Headline', 'Date']"
   ]
  },
  {
   "cell_type": "code",
   "execution_count": 4,
   "id": "de24796e",
   "metadata": {},
   "outputs": [
    {
     "name": "stdout",
     "output_type": "stream",
     "text": [
      "        Date      Close\n",
      "0 2012-12-12  27.580000\n",
      "1 2012-12-13  28.240000\n",
      "2 2012-12-14  26.809999\n",
      "3 2012-12-17  26.750000\n",
      "4 2012-12-18  27.709999\n"
     ]
    }
   ],
   "source": [
    "# Load stock data\n",
    "stock_df = pd.read_csv(\"../data/yfinance_data/META_historical_data.csv\")\n",
    "\n",
    "# Convert date to datetime\n",
    "stock_df['Date'] = pd.to_datetime(stock_df['Date'])\n",
    "\n",
    "# Sort by date\n",
    "stock_df.sort_values('Date', inplace=True)\n",
    "\n",
    "print(stock_df[['Date', 'Close']].head())"
   ]
  },
  {
   "cell_type": "code",
   "execution_count": 5,
   "id": "cb3c6935",
   "metadata": {},
   "outputs": [],
   "source": [
    "# Filter news that matches stock trading days\n",
    "stock_dates = set(stock_df['Date'])\n",
    "news_df = news_df[news_df['Date'].isin(stock_dates)]"
   ]
  },
  {
   "cell_type": "code",
   "execution_count": 6,
   "id": "60cd526d",
   "metadata": {},
   "outputs": [
    {
     "name": "stdout",
     "output_type": "stream",
     "text": [
      "        Date               Close\n",
      "1 2012-12-12  27.579999923706055\n",
      "2 2012-12-13  28.239999771118164\n",
      "3 2012-12-14  26.809999465942383\n",
      "4 2012-12-17               26.75\n",
      "5 2012-12-18  27.709999084472656\n"
     ]
    }
   ],
   "source": [
    "# Load META stock data\n",
    "stock_df = pd.read_csv(\"../data/yfinance_data/META_historical_data.csv\", header=None)\n",
    "\n",
    "# Assign column names based on structure\n",
    "# Adjust these indices if your CSV uses different format\n",
    "stock_df.columns = ['Date', 'Open', 'High', 'Low', 'Close', 'Adj Close', 'Volume', 'Dividend', 'Split']\n",
    "\n",
    "# Drop first row if it's not actual data (sometimes the first row is a comment)\n",
    "if len(stock_df) > 0:\n",
    "    stock_df = stock_df.iloc[1:]\n",
    "\n",
    "# Convert Date to datetime\n",
    "stock_df['Date'] = pd.to_datetime(stock_df['Date'])\n",
    "\n",
    "# Sort by date\n",
    "stock_df.sort_values('Date', inplace=True)\n",
    "\n",
    "print(stock_df[['Date', 'Close']].head())"
   ]
  },
  {
   "cell_type": "code",
   "execution_count": 7,
   "id": "7136f517",
   "metadata": {},
   "outputs": [
    {
     "name": "stdout",
     "output_type": "stream",
     "text": [
      "     0                                             1  \\\n",
      "0  NaN                                      headline   \n",
      "1  0.0       Stocks That Hit 52-Week Highs On Friday   \n",
      "2  1.0    Stocks That Hit 52-Week Highs On Wednesday   \n",
      "3  2.0                 71 Biggest Movers From Friday   \n",
      "4  3.0  46 Stocks Moving In Friday's Mid-Day Session   \n",
      "\n",
      "                                                   2                  3  \\\n",
      "0                                                url          publisher   \n",
      "1  https://www.benzinga.com/news/20/06/16190091/s...  Benzinga Insights   \n",
      "2  https://www.benzinga.com/news/20/06/16170189/s...  Benzinga Insights   \n",
      "3  https://www.benzinga.com/news/20/05/16103463/7...         Lisa Levin   \n",
      "4  https://www.benzinga.com/news/20/05/16095921/4...         Lisa Levin   \n",
      "\n",
      "                           4      5  \n",
      "0                       date  stock  \n",
      "1  2020-06-05 10:30:54-04:00      A  \n",
      "2  2020-06-03 10:45:20-04:00      A  \n",
      "3  2020-05-26 04:30:07-04:00      A  \n",
      "4  2020-05-22 12:45:06-04:00      A  \n"
     ]
    }
   ],
   "source": [
    "\n",
    "# Load raw analyst ratings CSV (news headlines)\n",
    "news_df = pd.read_csv(\"../data/raw/raw_analyst_ratings.csv\", header=None)\n",
    "\n",
    "# Inspect first few rows\n",
    "print(news_df.head())"
   ]
  },
  {
   "cell_type": "code",
   "execution_count": null,
   "id": "9b86e447",
   "metadata": {},
   "outputs": [],
   "source": [
    "# Load raw analyst ratings CSV\n",
    "news_df = pd.read_csv(\"../data/raw/raw_analyst_ratings.csv\", header=None)\n",
    "# Manually assign headline and date columns\n",
    "headline_col = 1\n",
    "date_col = 4\n",
    "\n",
    "# Extract only headline and date columns\n",
    "news_df = news_df[[headline_col, date_col]]\n",
    "news_df.columns = ['Headline', 'Date']\n",
    "\n",
    "# Parse dates (remove time if present)\n",
    "def parse_news_date(cell):\n",
    "    try:\n",
    "        return pd.to_datetime(str(cell).split(' ')[0])\n",
    "    except:\n",
    "        return None\n",
    "\n",
    "news_df['Date'] = news_df['Date'].apply(parse_news_date)\n"
   ]
  },
  {
   "cell_type": "code",
   "execution_count": 9,
   "id": "17639b05",
   "metadata": {},
   "outputs": [
    {
     "name": "stdout",
     "output_type": "stream",
     "text": [
      "                                       Headline       Date\n",
      "0                                      headline        NaT\n",
      "1       Stocks That Hit 52-Week Highs On Friday 2020-06-05\n",
      "2    Stocks That Hit 52-Week Highs On Wednesday 2020-06-03\n",
      "3                 71 Biggest Movers From Friday 2020-05-26\n",
      "4  46 Stocks Moving In Friday's Mid-Day Session 2020-05-22\n"
     ]
    }
   ],
   "source": [
    "print(news_df.head())"
   ]
  },
  {
   "cell_type": "code",
   "execution_count": 11,
   "id": "341c863f",
   "metadata": {},
   "outputs": [],
   "source": [
    "def get_sentiment(headline):\n",
    "    return TextBlob(headline).sentiment.polarity"
   ]
  },
  {
   "cell_type": "code",
   "execution_count": null,
   "id": "63c79af2",
   "metadata": {},
   "outputs": [],
   "source": [
    "# Add sentiment column\n",
    "news_df['Sentiment'] = news_df['Headline'].apply(get_sentiment)\n",
    "print(news_df[['Headline', 'Sentiment']].head(10))"
   ]
  },
  {
   "cell_type": "code",
   "execution_count": 14,
   "id": "eeaf58ab",
   "metadata": {},
   "outputs": [
    {
     "name": "stdout",
     "output_type": "stream",
     "text": [
      "                                            Headline  Sentiment      Tone\n",
      "0                                           headline       0.00   Neutral\n",
      "1            Stocks That Hit 52-Week Highs On Friday       0.00   Neutral\n",
      "2         Stocks That Hit 52-Week Highs On Wednesday       0.00   Neutral\n",
      "3                      71 Biggest Movers From Friday       0.00   Neutral\n",
      "4       46 Stocks Moving In Friday's Mid-Day Session       0.00   Neutral\n",
      "5  B of A Securities Maintains Neutral on Agilent...       0.00   Neutral\n",
      "6  CFRA Maintains Hold on Agilent Technologies, L...       0.00   Neutral\n",
      "7  UBS Maintains Neutral on Agilent Technologies,...       0.00   Neutral\n",
      "8  Agilent Technologies shares are trading higher...       0.25  Positive\n",
      "9  Wells Fargo Maintains Overweight on Agilent Te...       0.00   Neutral\n"
     ]
    }
   ],
   "source": [
    "def classify_tone(score):\n",
    "    if score > 0.1:\n",
    "        return 'Positive'\n",
    "    elif score < -0.1:\n",
    "        return 'Negative'\n",
    "    else:\n",
    "        return 'Neutral'\n",
    "\n",
    "# Add tone classification\n",
    "news_df['Tone'] = news_df['Sentiment'].apply(classify_tone)\n",
    "\n",
    "print(news_df[['Headline', 'Sentiment', 'Tone']].head(10))"
   ]
  },
  {
   "cell_type": "code",
   "execution_count": 16,
   "id": "db7d99c1",
   "metadata": {},
   "outputs": [
    {
     "name": "stdout",
     "output_type": "stream",
     "text": [
      "            Count  Percentage (%)\n",
      "Tone                             \n",
      "Neutral   1046538           74.36\n",
      "Positive   269878           19.18\n",
      "Negative    90913            6.46\n"
     ]
    }
   ],
   "source": [
    "# Show count and percentage\n",
    "tone_counts = news_df['Tone'].value_counts()\n",
    "tone_percent = news_df['Tone'].value_counts(normalize=True) * 100\n",
    "\n",
    "# Combine into one table\n",
    "tone_summary = pd.DataFrame({\n",
    "    'Count': tone_counts,\n",
    "    'Percentage (%)': tone_percent.round(2)\n",
    "})\n",
    "\n",
    "print(tone_summary)"
   ]
  },
  {
   "cell_type": "code",
   "execution_count": 17,
   "id": "2278aba5",
   "metadata": {},
   "outputs": [],
   "source": [
    "news_df.to_csv(\"news_sentiment_analysis.csv\", index=False)"
   ]
  },
  {
   "cell_type": "code",
   "execution_count": null,
   "id": "2311c899",
   "metadata": {},
   "outputs": [
    {
     "data": {
      "image/png": "[encoded data removed]",
      "text/plain": [
       "<Figure size 800x500 with 1 Axes>"
      ]
     },
     "metadata": {},
     "output_type": "display_data"
    },
    {
     "data": {
      "image/png": "[encoded data removed]",
      "text/plain": [
       "<Figure size 700x700 with 1 Axes>"
      ]
     },
     "metadata": {},
     "output_type": "display_data"
    }
   ],
   "source": [
    "# Sample data from earlier analysis\n",
    "sentiment_counts = {\n",
    "    'Positive': 64,\n",
    "    'Neutral': 120,\n",
    "    'Negative': 46\n",
    "}\n",
    "\n",
    "# Convert to DataFrame\n",
    "sentiment_df = pd.DataFrame(list(sentiment_counts.items()), columns=['Tone', 'Count'])\n",
    "\n",
    "# Option A: Bar Chart\n",
    "plt.figure(figsize=(8, 5))\n",
    "sns.barplot(x='Tone', y='Count', data=sentiment_df, hue='Tone', palette=\"Set2\", legend=False)\n",
    "plt.title('Sentiment Distribution')\n",
    "plt.xlabel('Tone')\n",
    "plt.ylabel('Number of Articles')\n",
    "plt.tight_layout()\n",
    "plt.savefig(\"sentiment_bar_chart.png\")  # Save as image\n",
    "plt.show()  # Display in notebook/script runtime\n",
    "\n",
    "# Option B: Pie Chart\n",
    "plt.figure(figsize=(7, 7))\n",
    "plt.pie(sentiment_df['Count'], labels=sentiment_df['Tone'], autopct='%1.1f%%', startangle=140, colors=['#66b3ff','#99ff99','#ffcc99'])\n",
    "plt.title('Sentiment Distribution')\n",
    "plt.axis('equal')  # Equal aspect ratio ensures circle\n",
    "plt.tight_layout()\n",
    "plt.savefig(\"sentiment_pie_chart.png\")  # Save as image\n",
    "plt.show()"
   ]
  },
  {
   "cell_type": "code",
   "execution_count": null,
   "id": "221f4378",
   "metadata": {},
   "outputs": [
    {
     "name": "stdout",
     "output_type": "stream",
     "text": [
      "Grouped sentiment saved to sentiment_by_ticker.csv\n"
     ]
    }
   ],
   "source": [
    "# Sample data from raw_analyst_rating.csv (column 1 = headline, column 4 = date)\n",
    "news_df = pd.read_csv(\"../data/raw/raw_analyst_ratings.csv\", header=None)\n",
    "headline_col = 1\n",
    "date_col = 4\n",
    "\n",
    "# Extract headline and date\n",
    "news_df = news_df[[headline_col, date_col]]\n",
    "news_df.columns = ['Headline', 'Date']\n",
    "\n",
    "# Parse dates\n",
    "def parse_news_date(cell):\n",
    "    try:\n",
    "        return pd.to_datetime(str(cell).split(' ')[0])\n",
    "    except:\n",
    "        return None\n",
    "\n",
    "news_df['Date'] = news_df['Date'].apply(parse_news_date)\n",
    "news_df.dropna(subset=['Date'], inplace=True)\n",
    "\n",
    "# Sentiment Analysis\n",
    "def get_sentiment(headline):\n",
    "    return TextBlob(headline).sentiment.polarity\n",
    "\n",
    "news_df['Sentiment'] = news_df['Headline'].apply(get_sentiment)\n",
    "\n",
    "# Classify tone\n",
    "def classify_tone(score):\n",
    "    if score > 0.1:\n",
    "        return 'Positive'\n",
    "    elif score < -0.1:\n",
    "        return 'Negative'\n",
    "    else:\n",
    "        return 'Neutral'\n",
    "\n",
    "news_df['Tone'] = news_df['Sentiment'].apply(classify_tone)\n",
    "\n",
    "# Manually assign ticker\n",
    "news_df['Ticker'] = 'META'  # Replace with actual ticker like 'AAPL', 'TSLA', etc.\n",
    "\n",
    "# Now group by Ticker and Tone\n",
    "grouped_sentiment = news_df.groupby(['Ticker', 'Tone']).size().unstack(fill_value=0)\n",
    "\n",
    "# Save to CSV\n",
    "grouped_sentiment.to_csv(\"sentiment_by_ticker.csv\")\n",
    "print(\"Grouped sentiment saved to sentiment_by_ticker.csv\")"
   ]
  },
  {
   "cell_type": "code",
   "execution_count": null,
   "id": "fbae15a2",
   "metadata": {},
   "outputs": [],
   "source": [
    "# Function to get sentiment score\n",
    "def get_sentiment(headline):\n",
    "    return TextBlob(headline).sentiment.polarity\n",
    "\n",
    "# Function to classify tone\n",
    "def classify_tone(score):\n",
    "    if score > 0.1:\n",
    "        return 'Positive'\n",
    "    elif score < -0.1:\n",
    "        return 'Negative'\n",
    "    else:\n",
    "        return 'Neutral'"
   ]
  },
  {
   "cell_type": "code",
   "execution_count": 32,
   "id": "e29dbc0a",
   "metadata": {},
   "outputs": [],
   "source": [
    "# Load raw analyst ratings CSV\n",
    "news_df = pd.read_csv(\"../data/raw/raw_analyst_ratings.csv\")\n",
    "\n",
    "# Rename columns based on actual structure\n",
    "news_df.columns = ['Index', 'Headline', 'Url', 'Publisher', 'Date', 'Ticker']\n",
    "\n",
    "# Clean date format\n",
    "news_df['Date'] = pd.to_datetime(news_df['Date'].str.split(' ').str[0], errors='coerce')\n",
    "\n",
    "# Keep only relevant columns\n",
    "news_df = news_df[['Date', 'Headline', 'Ticker']]"
   ]
  },
  {
   "cell_type": "code",
   "execution_count": 34,
   "id": "0f2c819a",
   "metadata": {},
   "outputs": [
    {
     "name": "stdout",
     "output_type": "stream",
     "text": [
      "Analyzing sentiment for AAPL...\n",
      "Analyzing sentiment for AMZN...\n",
      "Analyzing sentiment for GOOGL...\n",
      "Analyzing sentiment for META...\n",
      "No news found for META\n",
      "Analyzing sentiment for MSFT...\n",
      "No news found for MSFT\n",
      "Analyzing sentiment for NVDA...\n",
      "Analyzing sentiment for TSLA...\n"
     ]
    }
   ],
   "source": [
    "#Loop Through Each Ticker\n",
    "tickers = ['AAPL', 'AMZN', 'GOOGL', 'META', 'MSFT', 'NVDA', 'TSLA']\n",
    "all_sentiment_dfs = []\n",
    "\n",
    "for ticker in tickers:\n",
    "    print(f\"Analyzing sentiment for {ticker}...\")\n",
    "\n",
    "    # Filter and make a clean copy to avoid SettingWithCopyWarning\n",
    "    ticker_news = news_df[news_df['Ticker'] == ticker].copy()\n",
    "\n",
    "    if ticker_news.empty:\n",
    "        print(f\"No news found for {ticker}\")\n",
    "        continue\n",
    "\n",
    "    # Assign new columns safely\n",
    "    ticker_news['Sentiment'] = ticker_news['Headline'].apply(get_sentiment)\n",
    "    ticker_news['Tone'] = ticker_news['Sentiment'].apply(classify_tone)\n",
    "\n",
    "    # Save to CSV\n",
    "    ticker_news.to_csv(f\"{ticker}_sentiment_analysis.csv\", index=False)\n",
    "\n",
    "    # Add to combined list\n",
    "    all_sentiment_dfs.append(ticker_news)"
   ]
  },
  {
   "cell_type": "code",
   "execution_count": 35,
   "id": "c399e476",
   "metadata": {},
   "outputs": [
    {
     "name": "stdout",
     "output_type": "stream",
     "text": [
      "✅ Combined sentiment saved to all_tickers_sentiment_analysis.csv\n"
     ]
    }
   ],
   "source": [
    "# Concatenate all ticker sentiment data\n",
    "combined_sentiment_df = pd.concat(all_sentiment_dfs, ignore_index=True)\n",
    "\n",
    "# Save combined sentiment to CSV\n",
    "combined_sentiment_df.to_csv(\"all_tickers_sentiment_analysis.csv\", index=False)\n",
    "\n",
    "print(\"✅ Combined sentiment saved to all_tickers_sentiment_analysis.csv\")"
   ]
  },
  {
   "cell_type": "code",
   "execution_count": 38,
   "id": "88769174",
   "metadata": {},
   "outputs": [
    {
     "name": "stdout",
     "output_type": "stream",
     "text": [
      "     0                                             1  \\\n",
      "0  NaN                                      headline   \n",
      "1  0.0       Stocks That Hit 52-Week Highs On Friday   \n",
      "2  1.0    Stocks That Hit 52-Week Highs On Wednesday   \n",
      "3  2.0                 71 Biggest Movers From Friday   \n",
      "4  3.0  46 Stocks Moving In Friday's Mid-Day Session   \n",
      "\n",
      "                                                   2                  3  \\\n",
      "0                                                url          publisher   \n",
      "1  https://www.benzinga.com/news/20/06/16190091/s...  Benzinga Insights   \n",
      "2  https://www.benzinga.com/news/20/06/16170189/s...  Benzinga Insights   \n",
      "3  https://www.benzinga.com/news/20/05/16103463/7...         Lisa Levin   \n",
      "4  https://www.benzinga.com/news/20/05/16095921/4...         Lisa Levin   \n",
      "\n",
      "                           4      5  \n",
      "0                       date  stock  \n",
      "1  2020-06-05 10:30:54-04:00      A  \n",
      "2  2020-06-03 10:45:20-04:00      A  \n",
      "3  2020-05-26 04:30:07-04:00      A  \n",
      "4  2020-05-22 12:45:06-04:00      A  \n"
     ]
    }
   ],
   "source": [
    "#Match Headlines to Tickers (If No Ticker Column Exists)\n",
    "#If your raw_analyst_rating.csv file does not have a ticker column , we can try to extract or match it based on patterns in headlines, URLs, or manually map them.\n",
    "\n",
    "# Load raw analyst ratings CSV (no ticker column)\n",
    "news_df = pd.read_csv(\"../data/raw/raw_analyst_ratings.csv\", header=None)\n",
    "\n",
    "# Inspect first few rows\n",
    "print(news_df.head())"
   ]
  },
  {
   "cell_type": "code",
   "execution_count": 39,
   "id": "107f80e4",
   "metadata": {},
   "outputs": [],
   "source": [
    "ticker_keywords = {\n",
    "    'AAPL': ['Apple', 'AAPL'],\n",
    "    'TSLA': ['Tesla', 'TSLA'],\n",
    "    'NVDA': ['NVIDIA', 'NVDA'],\n",
    "    'META': ['Meta', 'Facebook', 'META'],\n",
    "    'AMZN': ['Amazon', 'AMZN'],\n",
    "    'GOOGL': ['Google', 'GOOGL'],\n",
    "    'MSFT': ['Microsoft', 'MSFT']\n",
    "}\n",
    "\n",
    "def match_ticker(headline):\n",
    "    for ticker, keywords in ticker_keywords.items():\n",
    "        if any(kw.lower() in headline.lower() for kw in keywords):\n",
    "            return ticker\n",
    "    return None"
   ]
  },
  {
   "cell_type": "code",
   "execution_count": null,
   "id": "c4d8f232",
   "metadata": {},
   "outputs": [],
   "source": [
    "# Assume column 1 contains headlines\n",
    "news_df['Headline'] = news_df[1]\n",
    "news_df['Ticker'] = news_df['Headline'].apply(match_ticker)\n",
    "\n",
    "# Drop unmatched headlines\n",
    "news_df = news_df.dropna(subset=['Ticker'])\n",
    "news_df['Ticker'] = news_df['Ticker'].astype(str)\n"
   ]
  },
  {
   "cell_type": "code",
   "execution_count": 41,
   "id": "86eba017",
   "metadata": {},
   "outputs": [],
   "source": [
    "from textblob import TextBlob\n",
    "\n",
    "def get_sentiment(headline):\n",
    "    return TextBlob(headline).sentiment.polarity\n",
    "\n",
    "def classify_tone(score):\n",
    "    if score > 0.1:\n",
    "        return 'Positive'\n",
    "    elif score < -0.1:\n",
    "        return 'Negative'\n",
    "    else:\n",
    "        return 'Neutral'\n",
    "\n",
    "# Apply sentiment analysis\n",
    "news_df['Sentiment'] = news_df['Headline'].apply(get_sentiment)\n",
    "news_df['Tone'] = news_df['Sentiment'].apply(classify_tone)"
   ]
  },
  {
   "cell_type": "code",
   "execution_count": 42,
   "id": "9ee000d7",
   "metadata": {},
   "outputs": [
    {
     "data": {
      "image/png": "[encoded data removed]",
      "text/plain": [
       "<Figure size 1000x600 with 1 Axes>"
      ]
     },
     "metadata": {},
     "output_type": "display_data"
    }
   ],
   "source": [
    "#Visualize Per-Ticker Sentiment Distribution\n",
    "import matplotlib.pyplot as plt\n",
    "import seaborn as sns\n",
    "\n",
    "grouped = news_df.groupby(['Ticker', 'Tone']).size().unstack(fill_value=0)\n",
    "\n",
    "# Plot stacked bar chart\n",
    "grouped.plot(kind='bar', stacked=True, figsize=(10, 6), color=['#ff9999','#66b3ff','#99ff99'])\n",
    "plt.title('Sentiment Distribution by Ticker')\n",
    "plt.xlabel('Ticker')\n",
    "plt.ylabel('Number of Articles')\n",
    "plt.xticks(rotation=0)\n",
    "plt.legend(title='Tone')\n",
    "plt.tight_layout()\n",
    "plt.savefig(\"sentiment_by_ticker.png\")\n",
    "plt.show()"
   ]
  },
  {
   "cell_type": "code",
   "execution_count": 55,
   "id": "08e282a3",
   "metadata": {},
   "outputs": [],
   "source": [
    "import pandas as pd\n",
    "import os\n",
    "from textblob import TextBlob\n",
    "import numpy as np"
   ]
  },
  {
   "cell_type": "markdown",
   "id": "4fb5c974",
   "metadata": {},
   "source": [
    "Now that we have all the required historical data files, let’s proceed with the following tasks:\n",
    "\n",
    "Load Historical Stock Data\n",
    "Perform Sentiment Analysis on News Headlines\n",
    "Align Dates Between News and Stock Data\n",
    "Calculate Daily Returns\n",
    "Correlate Sentiment Scores with Stock Returns\n",
    "Let’s go through each step systematically.\n",
    "\n",
    "Step 1: Load Historical Stock Data\n",
    "We'll use the load_stock_data function to load and clean the historical data for each ticker. Since you’ve confirmed that all the necessary files exist, we can proceed without worrying about missing files.\n"
   ]
  },
  {
   "cell_type": "code",
   "execution_count": 1,
   "id": "77e2ff05",
   "metadata": {},
   "outputs": [],
   "source": [
    "import pandas as pd\n",
    "import os\n",
    "\n",
    "def load_stock_data(ticker):\n",
    "    base_path = \"../data/yfinance_data\"\n",
    "    filename = os.path.join(base_path, f\"{ticker}_historical_data.csv\")\n",
    "\n",
    "    if not os.path.exists(filename):\n",
    "        print(f\"⚠️ File not found: {filename}\")\n",
    "        return None\n",
    "\n",
    "    # Load without header\n",
    "    df = pd.read_csv(filename, header=None)\n",
    "\n",
    "    # Manually assign column names\n",
    "    df.columns = ['Date', 'Open', 'High', 'Low', 'Close', 'Adj Close', 'Volume', 'Dividends', 'Stock Splits']\n",
    "\n",
    "    # Convert numeric columns to float\n",
    "    numeric_cols = ['Open', 'High', 'Low', 'Close', 'Adj Close', 'Volume']\n",
    "    df[numeric_cols] = df[numeric_cols].apply(pd.to_numeric, errors='coerce')\n",
    "\n",
    "    # Skip rows where Date is not valid\n",
    "    def is_valid_date(date_str):\n",
    "        try:\n",
    "            pd.to_datetime(date_str)\n",
    "            return True\n",
    "        except:\n",
    "            return False\n",
    "\n",
    "    df = df[df['Date'].apply(is_valid_date)]\n",
    "\n",
    "    # Convert date\n",
    "    df['Date'] = pd.to_datetime(df['Date'])\n",
    "\n",
    "    # Compute daily returns\n",
    "    df['Return'] = df['Close'].pct_change()\n",
    "\n",
    "    return df[['Date', 'Close', 'Return']]\n",
    "\n",
    "# List of tickers\n",
    "tickers = ['AAPL', 'AMZN', 'GOOG', 'MSFT', 'META', 'NVDA', 'TSLA']\n",
    "\n",
    "# Load data for all tickers\n",
    "stock_data = {}\n",
    "\n",
    "for ticker in tickers:\n",
    "    df = load_stock_data(ticker)\n",
    "    if df is not None:\n",
    "        stock_data[ticker] = df"
   ]
  },
  {
   "cell_type": "markdown",
   "id": "03c2a435",
   "metadata": {},
   "source": [
    "Step 2: Perform Sentiment Analysis on News Headlines\n",
    "Next, we’ll perform sentiment analysis on the news headlines from raw_analyst_rating.csv. If this file doesn’t contain a Ticker column, we’ll need to match headlines to tickers manually or based on keywords.\n",
    "\n",
    "Load and Clean News Data\n",
    "Assuming raw_analyst_rating.csv has the following structure:\n",
    "\n",
    "Column 0: Index\n",
    "Column 1: Headline\n",
    "Column 2: URL\n",
    "Column 3: Publisher\n",
    "Column 4: Date\n",
    "Column 5: Ticker (if available)\n",
    "Here’s how to load it:"
   ]
  },
  {
   "cell_type": "code",
   "execution_count": 3,
   "id": "d7b07bfd",
   "metadata": {},
   "outputs": [],
   "source": [
    "import pandas as pd\n",
    "\n",
    "# Load raw analyst ratings CSV\n",
    "news_df = pd.read_csv(\"../data/raw/raw_analyst_ratings.csv\", header=None)\n",
    "\n",
    "# Rename columns\n",
    "news_df.columns = ['Index', 'Headline', 'URL', 'Publisher', 'Date', 'Ticker']\n",
    "\n",
    "# Parse date column using explicit format\n",
    "news_df['Date'] = pd.to_datetime(news_df['Date'].str.split().str[0], format='%m/%d/%Y', errors='coerce', utc=True)\n",
    "\n",
    "# Drop rows with invalid dates\n",
    "news_df = news_df.dropna(subset=['Date'])\n",
    "\n",
    "# Ensure Ticker is not NaN\n",
    "news_df = news_df.dropna(subset=['Ticker'])"
   ]
  },
  {
   "cell_type": "code",
   "execution_count": 4,
   "id": "3675e112",
   "metadata": {},
   "outputs": [],
   "source": [
    "news_df['Ticker'] = news_df['Ticker'].str.strip()  # Remove whitespace"
   ]
  },
  {
   "cell_type": "code",
   "execution_count": 5,
   "id": "bd22ee37",
   "metadata": {},
   "outputs": [
    {
     "name": "stdout",
     "output_type": "stream",
     "text": [
      "    Index                                           Headline  \\\n",
      "11   10.0    30 Stocks Moving in Friday's Pre-Market Session   \n",
      "12   11.0  SVB Leerink Maintains Outperform on Agilent Te...   \n",
      "13   12.0  8 Stocks Moving In Thursday's After-Hours Session   \n",
      "14   13.0  Agilent Technologies shares are trading higher...   \n",
      "15   14.0  Agilent Technologies Q2 Adj. EPS $0.71 Beats $...   \n",
      "\n",
      "                                                  URL  \\\n",
      "11  https://www.benzinga.com/news/20/05/16092879/3...   \n",
      "12  https://www.benzinga.com/news/20/05/16092270/s...   \n",
      "13  https://www.benzinga.com/news/20/05/16089803/8...   \n",
      "14  https://www.benzinga.com/wiim/20/05/16089218/a...   \n",
      "15  https://www.benzinga.com/news/earnings/20/05/1...   \n",
      "\n",
      "                  Publisher                      Date Ticker  \n",
      "11               Lisa Levin 2020-05-22 00:00:00+00:00      A  \n",
      "12  vishwanath@benzinga.com 2020-05-22 00:00:00+00:00      A  \n",
      "13             Tyree Gorges 2020-05-21 00:00:00+00:00      A  \n",
      "14        Benzinga Newsdesk 2020-05-21 00:00:00+00:00      A  \n",
      "15        Benzinga Newsdesk 2020-05-21 00:00:00+00:00      A  \n"
     ]
    }
   ],
   "source": [
    "print(news_df.head())"
   ]
  },
  {
   "cell_type": "code",
   "execution_count": 7,
   "id": "be4b4692",
   "metadata": {},
   "outputs": [],
   "source": [
    "#Perform Sentiment Analysis\n",
    "#Simulate Sample News Headlines\n",
    "#Let’s create a small DataFrame with sample analyst ratings/news for testing\n",
    "import pandas as pd\n",
    "\n",
    "# Simulate sample news headlines\n",
    "news_data = [\n",
    "    [\"Meta announces new AI strategy\", \"2018-09-06\", \"META\"],\n",
    "    [\"Microsoft launches new cloud service\", \"2018-09-07\", \"MSFT\"],\n",
    "    [\"Tesla reports strong earnings\", \"2018-09-06\", \"TSLA\"],\n",
    "    [\"Google invests in healthcare tech\", \"2018-09-07\", \"GOOG\"],\n",
    "    [\"NVIDIA unveils next-gen GPUs\", \"2018-09-06\", \"NVDA\"],\n",
    "    [\"Meta faces regulatory scrutiny\", \"2018-09-07\", \"META\"],\n",
    "    [\"Microsoft acquires GitHub\", \"2018-09-05\", \"MSFT\"],\n",
    "    [\"Tesla misses delivery estimates\", \"2018-09-05\", \"TSLA\"],\n",
    "    [\"Google unveils new Pixel phones\", \"2018-09-06\", \"GOOG\"],\n",
    "    [\"NVIDIA partners with Intel\", \"2018-09-07\", \"NVDA\"]\n",
    "]\n",
    "\n",
    "# Create DataFrame\n",
    "news_df = pd.DataFrame(news_data, columns=['Headline', 'Date', 'Ticker'])\n",
    "\n",
    "# Convert Date to datetime\n",
    "news_df['Date'] = pd.to_datetime(news_df['Date'])"
   ]
  },
  {
   "cell_type": "code",
   "execution_count": 9,
   "id": "e6cdb099",
   "metadata": {},
   "outputs": [],
   "source": [
    "#Perform Sentiment Analysis Using TextBlob\n",
    "from textblob import TextBlob\n",
    "\n",
    "def get_sentiment(headline):\n",
    "    return TextBlob(headline).sentiment.polarity\n",
    "\n",
    "# Apply sentiment analysis\n",
    "news_df['Sentiment'] = news_df['Headline'].apply(get_sentiment)\n",
    "\n",
    "# Classify tone\n",
    "def classify_tone(score):\n",
    "    if score > 0.1:\n",
    "        return 'Positive'\n",
    "    elif score < -0.1:\n",
    "        return 'Negative'\n",
    "    else:\n",
    "        return 'Neutral'\n",
    "\n",
    "news_df['Tone'] = news_df['Sentiment'].apply(classify_tone)"
   ]
  },
  {
   "cell_type": "code",
   "execution_count": 10,
   "id": "9f428a44",
   "metadata": {},
   "outputs": [],
   "source": [
    "#Aggregate Daily Sentiment\n",
    "# Group sentiment by Ticker and Date\n",
    "daily_sentiment = news_df.groupby(['Ticker', 'Date'])['Sentiment'].mean().reset_index()"
   ]
  },
  {
   "cell_type": "code",
   "execution_count": 11,
   "id": "a598db48",
   "metadata": {},
   "outputs": [],
   "source": [
    "# Merge Sentiment with Stock Returns\n",
    "merged_data = {}\n",
    "\n",
    "for ticker, df_stock in stock_data.items():\n",
    "    # Get sentiment data for current ticker\n",
    "    df_news = daily_sentiment[daily_sentiment['Ticker'] == ticker]\n",
    "    \n",
    "    # Merge on Date\n",
    "    merged = pd.merge(df_news, df_stock, on='Date', how='inner')\n",
    "    \n",
    "    if not merged.empty:\n",
    "        merged_data[ticker] = merged[['Date', 'Sentiment', 'Return']]"
   ]
  },
  {
   "cell_type": "code",
   "execution_count": 12,
   "id": "90dd6930",
   "metadata": {},
   "outputs": [
    {
     "name": "stdout",
     "output_type": "stream",
     "text": [
      "{'GOOG': {'Correlation': -1.0, 'P-value': 1.0}, 'MSFT': {'Correlation': 1.0, 'P-value': 1.0}, 'META': {'Correlation': -1.0, 'P-value': 1.0}, 'NVDA': {'Correlation': nan, 'P-value': nan}, 'TSLA': {'Correlation': 1.0, 'P-value': 1.0}}\n"
     ]
    },
    {
     "name": "stderr",
     "output_type": "stream",
     "text": [
      "C:\\Users\\eep\\AppData\\Local\\Temp\\ipykernel_1916\\1542598077.py:8: ConstantInputWarning: An input array is constant; the correlation coefficient is not defined.\n",
      "  corr, p_value = pearsonr(df['Sentiment'], df['Return'])\n"
     ]
    }
   ],
   "source": [
    "#Calculate Correlation\n",
    "from scipy.stats import pearsonr\n",
    "\n",
    "correlations = {}\n",
    "\n",
    "for ticker, df in merged_data.items():\n",
    "    if len(df) > 1:\n",
    "        corr, p_value = pearsonr(df['Sentiment'], df['Return'])\n",
    "        correlations[ticker] = {'Correlation': corr, 'P-value': p_value}\n",
    "    else:\n",
    "        correlations[ticker] = {'Correlation': None, 'P-value': None}\n",
    "\n",
    "print(correlations)"
   ]
  },
  {
   "cell_type": "code",
   "execution_count": null,
   "id": "573d4f52",
   "metadata": {},
   "outputs": [
    {
     "data": {
      "image/png": "[encoded data removed]",
      "text/plain": [
       "<Figure size 800x500 with 1 Axes>"
      ]
     },
     "metadata": {},
     "output_type": "display_data"
    }
   ],
   "source": [
    "#visualize\n",
    "#Scatter Plot – Sentiment vs Return\n",
    "import matplotlib.pyplot as plt\n",
    "import seaborn as sns\n",
    "\n",
    "def plot_sentiment_vs_return(ticker, df):\n",
    "    plt.figure(figsize=(8, 5))\n",
    "    sns.scatterplot(data=df, x='Sentiment', y='Return', alpha=0.7)\n",
    "    plt.axhline(0, color='gray', linestyle='--')\n",
    "    plt.axvline(0, color='gray', linestyle='--')\n",
    "    plt.title(f\"Sentiment vs Return ({ticker})\")\n",
    "    plt.xlabel(\"News Sentiment Score\")\n",
    "    plt.ylabel(\"Daily Stock Return (%)\")\n",
    "    plt.grid(True)\n",
    "    plt.tight_layout()\n",
    "    plt.savefig(f\"{ticker}_sentiment_vs_returns.png\")\n",
    "    plt.show()\n",
    "\n",
    "# Example: Plot for META\n",
    "plot_sentiment_vs_return('META', merged_data['META'])"
   ]
  },
  {
   "cell_type": "code",
   "execution_count": 15,
   "id": "51a0abc1",
   "metadata": {},
   "outputs": [
    {
     "name": "stderr",
     "output_type": "stream",
     "text": [
      "C:\\Users\\eep\\AppData\\Local\\Temp\\ipykernel_1916\\2569324288.py:8: FutureWarning: \n",
      "\n",
      "Passing `palette` without assigning `hue` is deprecated and will be removed in v0.14.0. Assign the `x` variable to `hue` and set `legend=False` for the same effect.\n",
      "\n",
      "  sns.barplot(x=list(valid_correlations.keys()), y=list(valid_correlations.values()), palette=\"coolwarm\")\n"
     ]
    },
    {
     "data": {
      "image/png": "[encoded data removed]",
      "text/plain": [
       "<Figure size 1000x600 with 1 Axes>"
      ]
     },
     "metadata": {},
     "output_type": "display_data"
    }
   ],
   "source": [
    " #B: Bar Chart – Correlation by Ticker\n",
    "import matplotlib.pyplot as plt\n",
    "\n",
    "# Filter out tickers with no data\n",
    "valid_correlations = {k: v['Correlation'] for k, v in correlations.items() if v['Correlation'] is not None}\n",
    "\n",
    "plt.figure(figsize=(10, 6))\n",
    "sns.barplot(x=list(valid_correlations.keys()), y=list(valid_correlations.values()), palette=\"coolwarm\")\n",
    "plt.axhline(0, color='black', linestyle='--')\n",
    "plt.title(\"Correlation Between News Sentiment and Stock Returns\")\n",
    "plt.xlabel(\"Ticker\")\n",
    "plt.ylabel(\"Pearson Correlation\")\n",
    "plt.ylim(-1, 1)\n",
    "plt.tight_layout()\n",
    "plt.savefig(\"correlation_bar_chart.png\")\n",
    "plt.show()"
   ]
  },
  {
   "cell_type": "code",
   "execution_count": 16,
   "id": "de25b320",
   "metadata": {},
   "outputs": [
    {
     "data": {
      "image/png": "[encoded data removed]",
      "text/plain": [
       "<Figure size 1000x600 with 1 Axes>"
      ]
     },
     "metadata": {},
     "output_type": "display_data"
    }
   ],
   "source": [
    "#Tone Distribution per Ticker\n",
    "import matplotlib.pyplot as plt\n",
    "import seaborn as sns\n",
    "\n",
    "tone_distribution = news_df.groupby(['Ticker', 'Tone']).size().unstack(fill_value=0)\n",
    "tone_distribution.plot(kind='bar', stacked=True, figsize=(10, 6), color=['green', 'gray', 'red'])\n",
    "plt.title(\"Sentiment Tone Distribution by Ticker\")\n",
    "plt.xlabel(\"Ticker\")\n",
    "plt.ylabel(\"Number of Articles\")\n",
    "plt.xticks(rotation=0)\n",
    "plt.legend(title='Tone')\n",
    "plt.tight_layout()\n",
    "plt.savefig(\"tone_distribution_by_ticker.png\")\n",
    "plt.show()"
   ]
  }
 ],
 "metadata": {
  "kernelspec": {
   "display_name": "venv",
   "language": "python",
   "name": "python3"
  },
  "language_info": {
   "codemirror_mode": {
    "name": "ipython",
    "version": 3
   },
   "file_extension": ".py",
   "mimetype": "text/x-python",
   "name": "python",
   "nbconvert_exporter": "python",
   "pygments_lexer": "ipython3",
   "version": "3.12.10"
  }
 },
 "nbformat": 4,
 "nbformat_minor": 5
}
